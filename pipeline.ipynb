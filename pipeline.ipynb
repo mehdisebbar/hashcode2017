{
 "cells": [
  {
   "cell_type": "code",
   "execution_count": 2,
   "metadata": {
    "collapsed": false
   },
   "outputs": [
    {
     "ename": "SyntaxError",
     "evalue": "invalid syntax (<ipython-input-2-5dcdb9433cfe>, line 1)",
     "output_type": "error",
     "traceback": [
      "\u001b[0;36m  File \u001b[0;32m\"<ipython-input-2-5dcdb9433cfe>\"\u001b[0;36m, line \u001b[0;32m1\u001b[0m\n\u001b[0;31m    id_endpoint => {caches => {id_cache => latency}, request => {id_video => number of requests}, \"data center latency\"=> data_center_latency}\u001b[0m\n\u001b[0m                 ^\u001b[0m\n\u001b[0;31mSyntaxError\u001b[0m\u001b[0;31m:\u001b[0m invalid syntax\n"
     ]
    }
   ],
   "source": [
    "id_endpoint => {caches => {id_cache => latency}, request => {id_video => number of requests}, \"data center latency\"=> data_center_latency}"
   ]
  },
  {
   "cell_type": "code",
   "execution_count": 3,
   "metadata": {
    "collapsed": true
   },
   "outputs": [],
   "source": [
    "a = {\"c1\": 3, \"c2\": 4, \"c3\": 5 }"
   ]
  },
  {
   "cell_type": "code",
   "execution_count": 4,
   "metadata": {
    "collapsed": false
   },
   "outputs": [
    {
     "data": {
      "text/plain": [
       "{'c1': 3, 'c2': 4, 'c3': 5}"
      ]
     },
     "execution_count": 4,
     "metadata": {},
     "output_type": "execute_result"
    }
   ],
   "source": [
    "a"
   ]
  },
  {
   "cell_type": "code",
   "execution_count": 8,
   "metadata": {
    "collapsed": false
   },
   "outputs": [],
   "source": [
    "import operator\n",
    "\n",
    "# video with max requests\n",
    "most_viewed_video_id = max(a.iteritems(), key=operator.itemgetter(1))[0]\n",
    "\n",
    "# cache with lowest latency\n",
    "best_cache = min(a.iteritems(), key=operator.itemgetter(1))[0]"
   ]
  },
  {
   "cell_type": "code",
   "execution_count": 16,
   "metadata": {
    "collapsed": false
   },
   "outputs": [
    {
     "data": {
      "text/plain": [
       "{0: {'caches': {0: 100, 1: 300, 2: 200},\n",
       "  'data_center_latency': 1000,\n",
       "  'requests': {1: 1000, 3: 1500, 4: 500}},\n",
       " 1: {'caches': {}, 'data_center_latency': 500, 'requests': {0: 1000}}}"
      ]
     },
     "execution_count": 16,
     "metadata": {},
     "output_type": "execute_result"
    }
   ],
   "source": [
    "data = {0: {\"caches\": {0: 100, 2: 200, 1: 300}, \"requests\": {3: 1500, 4: 500, 1: 1000}, \"data_center_latency\": 1000}, 1: {\"caches\": {}, \"requests\": {0: 1000}, \"data_center_latency\": 500}}\n",
    "data"
   ]
  },
  {
   "cell_type": "code",
   "execution_count": 34,
   "metadata": {
    "collapsed": false
   },
   "outputs": [],
   "source": [
    "import operator\n",
    "\n",
    "def estimator(data):\n",
    "    res = {}\n",
    "    for endpoint_id in data.keys():\n",
    "        if data[endpoint_id][\"caches\"] != {}:\n",
    "            most_viewed_video_id = max(data[endpoint_id][\"requests\"].iteritems(), key=operator.itemgetter(1))[0]\n",
    "            best_cache = min(data[endpoint_id][\"caches\"].iteritems(), key=operator.itemgetter(1))[0]\n",
    "            temp_lst = res.get(best_cache,[])\n",
    "            temp_lst.append(most_viewed_video_id)\n",
    "            res[best_cache]=temp_lst\n",
    "    return res"
   ]
  },
  {
   "cell_type": "code",
   "execution_count": 25,
   "metadata": {
    "collapsed": false
   },
   "outputs": [
    {
     "data": {
      "text/plain": [
       "{}"
      ]
     },
     "execution_count": 25,
     "metadata": {},
     "output_type": "execute_result"
    }
   ],
   "source": [
    "data[1][\"caches\"]"
   ]
  },
  {
   "cell_type": "code",
   "execution_count": 24,
   "metadata": {
    "collapsed": false
   },
   "outputs": [
    {
     "name": "stdout",
     "output_type": "stream",
     "text": [
      "0\n",
      "1\n"
     ]
    }
   ],
   "source": [
    "for endpoint_id in data.keys():\n",
    "    print endpoint_id"
   ]
  },
  {
   "cell_type": "code",
   "execution_count": 35,
   "metadata": {
    "collapsed": false
   },
   "outputs": [
    {
     "data": {
      "text/plain": [
       "{0: [3]}"
      ]
     },
     "execution_count": 35,
     "metadata": {},
     "output_type": "execute_result"
    }
   ],
   "source": [
    "estimator(data)"
   ]
  },
  {
   "cell_type": "code",
   "execution_count": 37,
   "metadata": {
    "collapsed": false
   },
   "outputs": [],
   "source": [
    "from write_output import write_output"
   ]
  },
  {
   "cell_type": "code",
   "execution_count": 38,
   "metadata": {
    "collapsed": true
   },
   "outputs": [],
   "source": [
    "write_output(estimator(data))"
   ]
  },
  {
   "cell_type": "code",
   "execution_count": 39,
   "metadata": {
    "collapsed": true
   },
   "outputs": [],
   "source": [
    "import parsing.parser "
   ]
  },
  {
   "cell_type": "code",
   "execution_count": 41,
   "metadata": {
    "collapsed": false
   },
   "outputs": [],
   "source": [
    "INPUT_FILEPATH = \"/Users/mehdi/Documents/WorkingFolder/hashcode2017/kittens.in\"\n",
    "\n",
    "def get_lines(input_filepath):\n",
    "    with open(input_filepath) as infile:\n",
    "        lines = infile.read().splitlines()\n",
    "    return lines\n",
    "\n",
    "\n",
    "def read_data(lines):\n",
    "    nb_video, nb_endpoints, nb_requests, nb_caches, cache_capacity = [int(el) for el in lines[0].split()]\n",
    "    videos = {i: int(size) for i, size in enumerate(lines[1].split())}\n",
    "    endpoints = {i: {\"caches\": {}, \"requests\": {}} for i in range(nb_endpoints)}\n",
    "    current_endpoint_id = 0\n",
    "    current_endpoint_data_center_latency = lines[2].split()[0]\n",
    "    current_endpoint_cache_nb = int(lines[2].split()[1])\n",
    "    current_line = 3\n",
    "    current_endpoint_cache_index = 0\n",
    "    endpoints[0][\"data_center_latency\"] = current_endpoint_data_center_latency\n",
    "    while len(lines[current_line].split()) == 2:\n",
    "        if current_endpoint_cache_index >= current_endpoint_cache_nb:\n",
    "            current_endpoint_id += 1\n",
    "            endpoints[current_endpoint_id][\"data_center_latency\"] = int(lines[current_line].split()[0])\n",
    "            current_endpoint_cache_nb = int(lines[current_line].split()[1])\n",
    "            current_endpoint_cache_index = 0\n",
    "            current_line += 1\n",
    "        else:\n",
    "            cache_id, latency = [int(el) for el in lines[current_line].split()]\n",
    "            endpoints[current_endpoint_id][\"caches\"][cache_id] = latency\n",
    "            current_line += 1\n",
    "            current_endpoint_cache_index += 1\n",
    "    while current_line < len(lines):\n",
    "        video_id, endpoint_id, requests_nb = [int(el) for el in lines[current_line].split()]\n",
    "        endpoints[endpoint_id][\"requests\"][video_id] = requests_nb\n",
    "        current_line += 1\n",
    "\n",
    "    return endpoints, videos"
   ]
  },
  {
   "cell_type": "code",
   "execution_count": 42,
   "metadata": {
    "collapsed": true
   },
   "outputs": [],
   "source": [
    "for file in [\"me_at_the_zoo.in\", \"trending_today.in\", \"videos_worth_spreading.in\", ]\n",
    "INPUT_FILEPATH = \"/Users/mehdi/Documents/WorkingFolder/hashcode2017/kittens.in\"\n",
    "lines = get_lines(INPUT_FILEPATH)\n",
    "endpoints, videos = read_data(lines)\n",
    "write_output(estimator(endpoints))"
   ]
  },
  {
   "cell_type": "code",
   "execution_count": 46,
   "metadata": {
    "collapsed": false
   },
   "outputs": [],
   "source": []
  },
  {
   "cell_type": "code",
   "execution_count": null,
   "metadata": {
    "collapsed": true
   },
   "outputs": [],
   "source": [
    "%mv output "
   ]
  }
 ],
 "metadata": {
  "kernelspec": {
   "display_name": "Python 2",
   "language": "python",
   "name": "python2"
  },
  "language_info": {
   "codemirror_mode": {
    "name": "ipython",
    "version": 2
   },
   "file_extension": ".py",
   "mimetype": "text/x-python",
   "name": "python",
   "nbconvert_exporter": "python",
   "pygments_lexer": "ipython2",
   "version": "2.7.12"
  }
 },
 "nbformat": 4,
 "nbformat_minor": 1
}
