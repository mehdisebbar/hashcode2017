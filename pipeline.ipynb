{
 "cells": [
  {
   "cell_type": "code",
   "execution_count": 7,
   "metadata": {
    "collapsed": false
   },
   "outputs": [],
   "source": [
    "%load_ext autoreload\n",
    "%autoreload 2\n",
    "\n",
    "from estimator import estimator"
   ]
  },
  {
   "cell_type": "code",
   "execution_count": 8,
   "metadata": {
    "collapsed": false
   },
   "outputs": [],
   "source": [
    "from write_output import write_output"
   ]
  },
  {
   "cell_type": "code",
   "execution_count": null,
   "metadata": {
    "collapsed": false
   },
   "outputs": [],
   "source": []
  },
  {
   "cell_type": "code",
   "execution_count": 9,
   "metadata": {
    "collapsed": false
   },
   "outputs": [],
   "source": [
    "\n",
    "\n",
    "INPUT_FILEPATH = \"/Users/mehdi/Documents/WorkingFolder/hashcode2017/kittens.in\"\n",
    "\n",
    "def get_lines(input_filepath):\n",
    "    with open(input_filepath) as infile:\n",
    "        lines = infile.read().splitlines()\n",
    "    return lines\n",
    "\n",
    "\n",
    "def read_data(lines):\n",
    "    nb_video, nb_endpoints, nb_requests, nb_caches, cache_capacity = [int(el) for el in lines[0].split()]\n",
    "    videos = {i: int(size) for i, size in enumerate(lines[1].split())}\n",
    "    endpoints = {i: {\"caches\": {}, \"requests\": {}} for i in range(nb_endpoints)}\n",
    "    current_endpoint_id = 0\n",
    "    current_endpoint_data_center_latency = lines[2].split()[0]\n",
    "    current_endpoint_cache_nb = int(lines[2].split()[1])\n",
    "    current_line = 3\n",
    "    current_endpoint_cache_index = 0\n",
    "    endpoints[0][\"data_center_latency\"] = current_endpoint_data_center_latency\n",
    "    while len(lines[current_line].split()) == 2:\n",
    "        if current_endpoint_cache_index >= current_endpoint_cache_nb:\n",
    "            current_endpoint_id += 1\n",
    "            endpoints[current_endpoint_id][\"data_center_latency\"] = int(lines[current_line].split()[0])\n",
    "            current_endpoint_cache_nb = int(lines[current_line].split()[1])\n",
    "            current_endpoint_cache_index = 0\n",
    "            current_line += 1\n",
    "        else:\n",
    "            cache_id, latency = [int(el) for el in lines[current_line].split()]\n",
    "            endpoints[current_endpoint_id][\"caches\"][cache_id] = latency\n",
    "            current_line += 1\n",
    "            current_endpoint_cache_index += 1\n",
    "    while current_line < len(lines):\n",
    "        video_id, endpoint_id, requests_nb = [int(el) for el in lines[current_line].split()]\n",
    "        endpoints[endpoint_id][\"requests\"][video_id] = requests_nb\n",
    "        current_line += 1\n",
    "\n",
    "    return endpoints, videos"
   ]
  },
  {
   "cell_type": "code",
   "execution_count": 11,
   "metadata": {
    "collapsed": false
   },
   "outputs": [],
   "source": [
    "for file in [\"me_at_the_zoo.in\", \"trending_today.in\", \"videos_worth_spreading.in\", \"kittens.in\"]:\n",
    "    INPUT_FILEPATH = \"/Users/mehdi/Documents/WorkingFolder/hashcode2017/\"+file\n",
    "    lines = get_lines(INPUT_FILEPATH)\n",
    "    endpoints, videos = read_data(lines)\n",
    "    write_output(estimator(endpoints),INPUT_FILEPATH+\".out\" )"
   ]
  },
  {
   "cell_type": "code",
   "execution_count": 46,
   "metadata": {
    "collapsed": false
   },
   "outputs": [],
   "source": []
  }
 ],
 "metadata": {
  "kernelspec": {
   "display_name": "Python 2",
   "language": "python",
   "name": "python2"
  },
  "language_info": {
   "codemirror_mode": {
    "name": "ipython",
    "version": 2
   },
   "file_extension": ".py",
   "mimetype": "text/x-python",
   "name": "python",
   "nbconvert_exporter": "python",
   "pygments_lexer": "ipython2",
   "version": "2.7.12"
  }
 },
 "nbformat": 4,
 "nbformat_minor": 1
}
